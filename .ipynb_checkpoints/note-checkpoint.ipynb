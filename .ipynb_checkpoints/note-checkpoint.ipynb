{
 "cells": [
  {
   "cell_type": "markdown",
   "id": "6b1727a0",
   "metadata": {},
   "source": [
    "## Importing libraries"
   ]
  },
  {
   "cell_type": "code",
   "execution_count": 13,
   "id": "fe9aea2d",
   "metadata": {},
   "outputs": [
    {
     "name": "stdout",
     "output_type": "stream",
     "text": [
      "/Users/cbrun/Documents/UFR/M1_TURB/TP/DATA_cylindre\n"
     ]
    }
   ],
   "source": [
    "import numpy as np\n",
    "import pandas as pd\n",
    "import matplotlib.pyplot as plt\n",
    "import netCDF4 as nc\n",
    "from scipy import stats, arange, misc, signal\n",
    "import netCDF4 as nc\n",
    "import datetime as datetime\n",
    "import sys\n",
    "Path2 = \"/Users/cbrun/Documents/UFR/\"\n",
    "sys.path.append(Path2)\n",
    "import os\n",
    "from pathlib import Path\n",
    "print(Path.cwd())"
   ]
  },
  {
   "cell_type": "code",
   "execution_count": 5,
   "id": "f867714f",
   "metadata": {},
   "outputs": [],
   "source": [
    "Path2='/Users/cbrun/Documents/UFR/M1_TURB/TP/DATA_cylindre/'\n",
    "sys.path.append(Path2)\n",
    "import Fonction_structure\n",
    "import Autocorrelation"
   ]
  },
  {
   "cell_type": "markdown",
   "id": "ede1d056",
   "metadata": {},
   "source": [
    "## Reading the data"
   ]
  },
  {
   "cell_type": "markdown",
   "id": "c7f58c36",
   "metadata": {},
   "source": [
    "## NETCDF"
   ]
  },
  {
   "cell_type": "code",
   "execution_count": 8,
   "id": "c19849d1",
   "metadata": {},
   "outputs": [
    {
     "name": "stdout",
     "output_type": "stream",
     "text": [
      "<class 'netCDF4._netCDF4.Dataset'>\n",
      "root group (NETCDF4 data model, file format HDF5):\n",
      "    dimensions(sizes): time(37632)\n",
      "    variables(dimensions): float32 u(time), float32 v(time), float32 w(time)\n",
      "    groups: \n",
      "[10.733789 11.020116 10.271388 ... 10.222719  9.902984 10.832353]\n",
      "[ 0.09184415  0.29724777 -0.02563373 ... -0.08954611 -0.10164868\n",
      "  0.06464213]\n",
      "[ 0.19265087  0.07004414  0.03188846 ... -0.37784773 -0.40864572\n",
      "  0.02214655]\n"
     ]
    }
   ],
   "source": [
    "file0='u_10mps_y-5,7'\n",
    "path='/Users/cbrun/Documents/UFR/M1_TURB/TP/DATA_cylindre/tp2_oct2023/'\n",
    "filepath=path+file0+'.nc'\n",
    "r3 = nc.Dataset(filepath, 'r', format='NETCDF4')\n",
    "print(r3)\n",
    "print(r3['u'][:])\n",
    "print(r3['v'][:])\n",
    "print(r3['w'][:])\n",
    "u=r3['u'][:]\n",
    "v=r3['v'][:]\n",
    "w=r3['w'][:]"
   ]
  },
  {
   "cell_type": "markdown",
   "id": "d5f81f3f",
   "metadata": {},
   "source": [
    "# Spectres\n",
    "## statistiques utiles"
   ]
  },
  {
   "cell_type": "code",
   "execution_count": 9,
   "id": "2480bece",
   "metadata": {},
   "outputs": [],
   "source": [
    "um=np.sqrt(np.mean(u)**2+np.mean(v)**2+np.mean(w)**2)\n",
    "up=u-np.mean(u)\n",
    "nu=15.e-6\n",
    "Fs = 1250\n",
    "nfft = 1024\n",
    "C=2\n",
    "t = np.linspace(0.00001,4096-1, 4096)/Fs\n",
    "Kx = 2*np.pi*Fs/um\n",
    "tau, autocorrelation = Autocorrelation.autocorr_lisse(u, 1024*4)\n",
    "rho=tau*um/Fs\n",
    "#Integral_cobra[i] = np.trapz(autocorrelation[0:np.where(autocorrelation<0)[0][0]], rho[0:np.where(autocorrelation<0)[0][0]])\n",
    "s2 = Fonction_structure.structure_f(up,2,1024*4)\n",
    "r = t*um\n",
    "epsilon_structure_courbe = (s2*r**(-2/3)/C)**1.5\n",
    "epsilon_structure_cobra = np.nanmax(epsilon_structure_courbe)\n",
    "Kolmogorov_cobra = (nu**3/epsilon_structure_cobra)**(1/4)\n",
    "k_Kolmogorov_cobra = 2*np.pi/Kolmogorov_cobra\n",
    "U_Kolmogorov_cobra = (epsilon_structure_cobra*nu)**(1/4)\n",
    "#Taylor_cobra = np.sqrt(15*nu*Varu_cobra/epsilon_structure_cobra)\n",
    "#k_Taylor_cobra = 2*np.pi/Taylor_cobra\n",
    "#k_integral_cobra = 2*np.pi/Integral_cobra"
   ]
  },
  {
   "cell_type": "code",
   "execution_count": 10,
   "id": "39a5ee25",
   "metadata": {},
   "outputs": [
    {
     "data": {
      "text/plain": [
       "<matplotlib.legend.Legend at 0x7f961f977dc0>"
      ]
     },
     "execution_count": 10,
     "metadata": {},
     "output_type": "execute_result"
    },
    {
     "data": {
      "image/png": "[encoded data removed]",
      "text/plain": [
       "<Figure size 432x288 with 1 Axes>"
      ]
     },
     "metadata": {
      "needs_background": "light"
     },
     "output_type": "display_data"
    }
   ],
   "source": [
    "#ex de jeu de donnÃ©ees statistiques:\n",
    "eta = 1.\n",
    "plt.semilogx(r[1:]/eta, (epsilon_structure_cobra*r[1:])**(-2/3)*s2[1:], c='red', label='V')\n",
    "plt.ylabel(r'$\\left(\\frac{(S2*r)^{-2/3}}{C}\\right)^{1.5}$ with C=2')\n",
    "plt.xlabel('r')\n",
    "plt.axhline(C)\n",
    "#plt.axhline(C*4/3)\n",
    "plt.tight_layout()\n",
    "plt.legend(edgecolor = 'white', framealpha =1, loc=3)"
   ]
  },
  {
   "cell_type": "code",
   "execution_count": 11,
   "id": "ac2b944b",
   "metadata": {},
   "outputs": [],
   "source": [
    "nfft = 1024\n",
    "um=np.mean(u)\n",
    "up=u-um\n",
    "Kx = 2*np.pi*Fs/um\n",
    "f_1 = np.zeros((1), dtype=np.ndarray)\n",
    "SU_1 = np.zeros((1), dtype=np.ndarray)\n",
    "f_1, SU_1 = signal.welch(up, Fs, nperseg =nfft, return_onesided = True, detrend=False, window = 'hanning')"
   ]
  },
  {
   "cell_type": "code",
   "execution_count": 15,
   "id": "86438782",
   "metadata": {},
   "outputs": [
    {
     "data": {
      "text/plain": [
       "[<matplotlib.lines.Line2D at 0x7f961ff230d0>]"
      ]
     },
     "execution_count": 15,
     "metadata": {},
     "output_type": "execute_result"
    },
    {
     "data": {
      "image/png": "[encoded data removed]",
      "text/plain": [
       "<Figure size 432x288 with 1 Axes>"
      ]
     },
     "metadata": {
      "needs_background": "light"
     },
     "output_type": "display_data"
    }
   ],
   "source": [
    "plt.figure()\n",
    "plt.plot(f_1, SU_1)\n",
    "plt.xscale('log')\n",
    "plt.yscale('log')\n",
    "x = np.linspace(10**(1), 10**(3), 1000)\n",
    "a = 3\n",
    "plt.plot(x, a*x**(-5/3), c='black')"
   ]
  },
  {
   "cell_type": "code",
   "execution_count": null,
   "id": "f474e56e",
   "metadata": {},
   "outputs": [],
   "source": []
  }
 ],
 "metadata": {
  "kernelspec": {
   "display_name": "Python 3 (ipykernel)",
   "language": "python",
   "name": "python3"
  },
  "language_info": {
   "codemirror_mode": {
    "name": "ipython",
    "version": 3
   },
   "file_extension": ".py",
   "mimetype": "text/x-python",
   "name": "python",
   "nbconvert_exporter": "python",
   "pygments_lexer": "ipython3",
   "version": "3.9.7"
  }
 },
 "nbformat": 4,
 "nbformat_minor": 5
}
